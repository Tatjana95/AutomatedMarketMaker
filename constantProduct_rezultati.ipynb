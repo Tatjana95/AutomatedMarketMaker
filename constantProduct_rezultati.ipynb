{
 "cells": [
  {
   "cell_type": "code",
   "execution_count": 1,
   "metadata": {},
   "outputs": [],
   "source": [
    "from constantProduct import ConstantProduct_swap\n",
    "from token_class import Token\n",
    "import matplotlib.pyplot as plt\n",
    "import numpy as np"
   ]
  },
  {
   "cell_type": "markdown",
   "metadata": {},
   "source": [
    "Nezavisnost putanje"
   ]
  },
  {
   "cell_type": "code",
   "execution_count": 2,
   "metadata": {},
   "outputs": [],
   "source": [
    "c = ConstantProduct_swap([Token('a', 100), Token('b', 100)])"
   ]
  },
  {
   "cell_type": "code",
   "execution_count": 3,
   "metadata": {},
   "outputs": [
    {
     "data": {
      "text/plain": [
       "10000"
      ]
     },
     "execution_count": 3,
     "metadata": {},
     "output_type": "execute_result"
    }
   ],
   "source": [
    "c.cost_function()"
   ]
  },
  {
   "cell_type": "code",
   "execution_count": 4,
   "metadata": {},
   "outputs": [
    {
     "data": {
      "text/plain": [
       "100"
      ]
     },
     "execution_count": 4,
     "metadata": {},
     "output_type": "execute_result"
    }
   ],
   "source": [
    "c.price_function(c.getTokens()[0])"
   ]
  },
  {
   "cell_type": "code",
   "execution_count": 5,
   "metadata": {},
   "outputs": [
    {
     "data": {
      "text/plain": [
       "11.11111111"
      ]
     },
     "execution_count": 5,
     "metadata": {},
     "output_type": "execute_result"
    }
   ],
   "source": [
    "#Kupovina odjednom\n",
    "round(c.swap('buy', 'a', 10), 8)"
   ]
  },
  {
   "cell_type": "code",
   "execution_count": 6,
   "metadata": {},
   "outputs": [
    {
     "name": "stdout",
     "output_type": "stream",
     "text": [
      "\n",
      "Korisnik placa:  1.0101\n",
      "Token:\n",
      "\tname:  a \tamount:  99\n",
      "Token:\n",
      "\tname:  b \tamount:  101.01010101\n",
      "\n",
      "Korisnik placa:  1.03072\n",
      "Token:\n",
      "\tname:  a \tamount:  98\n",
      "Token:\n",
      "\tname:  b \tamount:  102.04081633\n",
      "\n",
      "Korisnik placa:  1.05197\n",
      "Token:\n",
      "\tname:  a \tamount:  97\n",
      "Token:\n",
      "\tname:  b \tamount:  103.09278351\n",
      "\n",
      "Korisnik placa:  1.07388\n",
      "Token:\n",
      "\tname:  a \tamount:  96\n",
      "Token:\n",
      "\tname:  b \tamount:  104.16666667\n",
      "\n",
      "Korisnik placa:  1.09649\n",
      "Token:\n",
      "\tname:  a \tamount:  95\n",
      "Token:\n",
      "\tname:  b \tamount:  105.26315789\n",
      "\n",
      "Korisnik placa:  1.11982\n",
      "Token:\n",
      "\tname:  a \tamount:  94\n",
      "Token:\n",
      "\tname:  b \tamount:  106.38297872\n",
      "\n",
      "Korisnik placa:  1.1439\n",
      "Token:\n",
      "\tname:  a \tamount:  93\n",
      "Token:\n",
      "\tname:  b \tamount:  107.52688172\n",
      "\n",
      "Korisnik placa:  1.16877\n",
      "Token:\n",
      "\tname:  a \tamount:  92\n",
      "Token:\n",
      "\tname:  b \tamount:  108.69565217\n",
      "\n",
      "Korisnik placa:  1.19446\n",
      "Token:\n",
      "\tname:  a \tamount:  91\n",
      "Token:\n",
      "\tname:  b \tamount:  109.89010989\n",
      "\n",
      "Korisnik placa:  1.221\n",
      "Token:\n",
      "\tname:  a \tamount:  90\n",
      "Token:\n",
      "\tname:  b \tamount:  111.11111111\n",
      "\n",
      "Ukupni troskovi 11.1111\n"
     ]
    }
   ],
   "source": [
    "#Kupovina jedan po jedan\n",
    "swap_path_idepedent = ConstantProduct_swap([Token('a', 100), Token('b', 100)])\n",
    "s = 0\n",
    "for i in range(10):\n",
    "    pay = round(swap_path_idepedent.swap('buy', 'a', 1), 5)\n",
    "    print()\n",
    "    print('Korisnik placa: ', round(pay, 5))\n",
    "    swap_path_idepedent.poolState()\n",
    "    s += pay\n",
    "print()\n",
    "print('Ukupni troskovi', round(s, 4))"
   ]
  },
  {
   "cell_type": "code",
   "execution_count": 7,
   "metadata": {},
   "outputs": [
    {
     "name": "stderr",
     "output_type": "stream",
     "text": [
      "/home/tatjana/Desktop/master/AMM/V2/V3/constantProduct.py:55: RuntimeWarning: divide by zero encountered in double_scalars\n",
      "  return Swap.getK(self) / n\n"
     ]
    },
    {
     "data": {
      "image/png": "[encoded data removed]",
      "text/plain": [
       "<matplotlib.figure.Figure at 0x7efe6ea88390>"
      ]
     },
     "metadata": {
      "needs_background": "light"
     },
     "output_type": "display_data"
    },
    {
     "data": {
      "text/plain": [
       "<matplotlib.figure.Figure at 0x7efe6ca0f828>"
      ]
     },
     "metadata": {},
     "output_type": "display_data"
    }
   ],
   "source": [
    "#Kriva vezivanja\n",
    "swap_g = ConstantProduct_swap([Token('a', 10), Token('b', 10)])\n",
    "\n",
    "x = np.arange(0, swap_g.unknownAmount(1), 1)\n",
    "y = [swap_g.unknownAmount(i)  for i in x]\n",
    "plt.figure(figsize=(5, 5))\n",
    "plt.yticks(np.arange(0, 100, step=10))\n",
    "plt.xticks(np.arange(0, 100, step=10))\n",
    "plt.plot(x, y, color = 'red')\n",
    "plt.savefig('constantProduct.jpeg')\n",
    "plt.figure().clear()"
   ]
  },
  {
   "cell_type": "markdown",
   "metadata": {},
   "source": [
    "Osetljivost na likvidnost"
   ]
  },
  {
   "cell_type": "code",
   "execution_count": 8,
   "metadata": {},
   "outputs": [],
   "source": [
    "init = [50, 100, 500, 1000, 5000, 10000]"
   ]
  },
  {
   "cell_type": "code",
   "execution_count": 9,
   "metadata": {
    "scrolled": true
   },
   "outputs": [
    {
     "name": "stdout",
     "output_type": "stream",
     "text": [
      "50\n",
      "c0 =  2500\n",
      "p1_0 =  50\n",
      "p2_0 =  50\n",
      "pay =  12.5\n",
      "p1_1 =  62.5\n",
      "p2_1 =  40\n",
      "Token:\n",
      "\tname:  a \tamount:  40\n",
      "Token:\n",
      "\tname:  b \tamount:  62.5\n",
      "\n",
      "100\n",
      "c0 =  10000\n",
      "p1_0 =  100\n",
      "p2_0 =  100\n",
      "pay =  11.1111\n",
      "p1_1 =  111.1111\n",
      "p2_1 =  90\n",
      "Token:\n",
      "\tname:  a \tamount:  90\n",
      "Token:\n",
      "\tname:  b \tamount:  111.11111111\n",
      "\n",
      "500\n",
      "c0 =  250000\n",
      "p1_0 =  500\n",
      "p2_0 =  500\n",
      "pay =  10.2041\n",
      "p1_1 =  510.2041\n",
      "p2_1 =  490\n",
      "Token:\n",
      "\tname:  a \tamount:  490\n",
      "Token:\n",
      "\tname:  b \tamount:  510.20408163\n",
      "\n",
      "1000\n",
      "c0 =  1000000\n",
      "p1_0 =  1000\n",
      "p2_0 =  1000\n",
      "pay =  10.101\n",
      "p1_1 =  1010.101\n",
      "p2_1 =  990\n",
      "Token:\n",
      "\tname:  a \tamount:  990\n",
      "Token:\n",
      "\tname:  b \tamount:  1010.1010101\n",
      "\n",
      "5000\n",
      "c0 =  25000000\n",
      "p1_0 =  5000\n",
      "p2_0 =  5000\n",
      "pay =  10.02\n",
      "p1_1 =  5010.02\n",
      "p2_1 =  4990\n",
      "Token:\n",
      "\tname:  a \tamount:  4990\n",
      "Token:\n",
      "\tname:  b \tamount:  5010.02004008\n",
      "\n",
      "10000\n",
      "c0 =  100000000\n",
      "p1_0 =  10000\n",
      "p2_0 =  10000\n",
      "pay =  10.01\n",
      "p1_1 =  10010.01\n",
      "p2_1 =  9990\n",
      "Token:\n",
      "\tname:  a \tamount:  9990\n",
      "Token:\n",
      "\tname:  b \tamount:  10010.01001001\n",
      "\n"
     ]
    }
   ],
   "source": [
    "for i in init:\n",
    "    swap_liquidity = ConstantProduct_swap([Token('a', i), Token('b', i)])\n",
    "    print(i)\n",
    "    print('c0 = ' ,round(swap_liquidity.cost_function(), 4))\n",
    "    print('p1_0 = ', round(swap_liquidity.price_function(swap_liquidity.getTokens()[0]), 4))\n",
    "    print('p2_0 = ', round(swap_liquidity.price_function(swap_liquidity.getTokens()[1]), 4))\n",
    "    pay = swap_liquidity.swap('buy','a', 10)\n",
    "    print('pay = ', round(pay, 4))\n",
    "    print('p1_1 = ', round(swap_liquidity.price_function(swap_liquidity.getTokens()[0]), 4))\n",
    "    print('p2_1 = ', round(swap_liquidity.price_function(swap_liquidity.getTokens()[1]), 4))\n",
    "    \n",
    "    swap_liquidity.poolState()\n",
    "    print()"
   ]
  },
  {
   "cell_type": "markdown",
   "metadata": {},
   "source": [
    "Nestalni gubitak"
   ]
  },
  {
   "cell_type": "code",
   "execution_count": 10,
   "metadata": {},
   "outputs": [],
   "source": [
    "impLoss = ConstantProduct_swap([Token('a', 10), Token('b', 10)])"
   ]
  },
  {
   "cell_type": "code",
   "execution_count": 11,
   "metadata": {},
   "outputs": [
    {
     "data": {
      "text/plain": [
       "0.0"
      ]
     },
     "execution_count": 11,
     "metadata": {},
     "output_type": "execute_result"
    }
   ],
   "source": [
    "impLoss.impermanentLostAndGain(impLoss.getTokens()[1])"
   ]
  },
  {
   "cell_type": "code",
   "execution_count": 12,
   "metadata": {},
   "outputs": [],
   "source": [
    "x = np.arange(0, impLoss.unknownAmount(1), 1)"
   ]
  },
  {
   "cell_type": "code",
   "execution_count": 13,
   "metadata": {},
   "outputs": [
    {
     "data": {
      "text/plain": [
       "90.0"
      ]
     },
     "execution_count": 13,
     "metadata": {},
     "output_type": "execute_result"
    }
   ],
   "source": [
    "impLoss.swap('buy', 'a', 9)"
   ]
  },
  {
   "cell_type": "code",
   "execution_count": null,
   "metadata": {},
   "outputs": [],
   "source": []
  },
  {
   "cell_type": "code",
   "execution_count": 14,
   "metadata": {},
   "outputs": [],
   "source": [
    "impL = [impLoss.impermanentLostAndGain(impLoss.getTokens()[1])]"
   ]
  },
  {
   "cell_type": "code",
   "execution_count": 15,
   "metadata": {},
   "outputs": [
    {
     "name": "stdout",
     "output_type": "stream",
     "text": [
      "1\n",
      "2\n",
      "3\n",
      "4\n",
      "5\n",
      "6\n",
      "7\n",
      "8\n",
      "9\n",
      "10\n",
      "11\n",
      "12\n",
      "13\n",
      "14\n",
      "15\n",
      "16\n",
      "17\n",
      "18\n",
      "19\n",
      "20\n",
      "21\n",
      "22\n",
      "23\n",
      "24\n",
      "25\n",
      "26\n",
      "27\n",
      "28\n",
      "29\n",
      "30\n",
      "31\n",
      "32\n",
      "33\n",
      "34\n",
      "35\n",
      "36\n",
      "37\n",
      "38\n",
      "39\n",
      "40\n",
      "41\n",
      "42\n",
      "43\n",
      "44\n",
      "45\n",
      "46\n",
      "47\n",
      "48\n",
      "49\n",
      "50\n",
      "51\n",
      "52\n",
      "53\n",
      "54\n",
      "55\n",
      "56\n",
      "57\n",
      "58\n",
      "59\n",
      "60\n",
      "61\n",
      "62\n",
      "63\n",
      "64\n",
      "65\n",
      "66\n",
      "67\n",
      "68\n",
      "69\n",
      "70\n",
      "71\n",
      "72\n",
      "73\n",
      "74\n",
      "75\n",
      "76\n",
      "77\n",
      "78\n",
      "79\n",
      "80\n",
      "81\n",
      "82\n",
      "83\n",
      "84\n",
      "85\n",
      "86\n",
      "87\n",
      "88\n",
      "89\n",
      "90\n",
      "91\n",
      "92\n",
      "93\n",
      "94\n",
      "95\n",
      "96\n",
      "97\n",
      "98\n",
      "99\n"
     ]
    }
   ],
   "source": [
    "for i in range(1, len(x)):\n",
    "    print(i)\n",
    "    impLoss.swap('sell', 'a', 1)\n",
    "    impL.append(impLoss.impermanentLostAndGain(impLoss.getTokens()[1]))"
   ]
  },
  {
   "cell_type": "code",
   "execution_count": 16,
   "metadata": {},
   "outputs": [
    {
     "data": {
      "image/png": "[encoded data removed]",
      "text/plain": [
       "<matplotlib.figure.Figure at 0x7efe6c9f3748>"
      ]
     },
     "metadata": {
      "needs_background": "light"
     },
     "output_type": "display_data"
    },
    {
     "data": {
      "text/plain": [
       "<matplotlib.figure.Figure at 0x7efe6ea88390>"
      ]
     },
     "metadata": {},
     "output_type": "display_data"
    }
   ],
   "source": [
    "plt.figure(figsize=(6, 6))\n",
    "plt.xticks(np.arange(0, 100, step=10))\n",
    "plt.plot(x, impL, color = 'blue')\n",
    "plt.plot(x, [0 for i in range (0, len(x))], color = 'black')\n",
    "plt.savefig('impermanentLossCP.jpeg')\n",
    "plt.figure().clear()"
   ]
  },
  {
   "cell_type": "code",
   "execution_count": null,
   "metadata": {},
   "outputs": [],
   "source": []
  }
 ],
 "metadata": {
  "kernelspec": {
   "display_name": "Python 3",
   "language": "python",
   "name": "python3"
  },
  "language_info": {
   "codemirror_mode": {
    "name": "ipython",
    "version": 3
   },
   "file_extension": ".py",
   "mimetype": "text/x-python",
   "name": "python",
   "nbconvert_exporter": "python",
   "pygments_lexer": "ipython3",
   "version": "3.6.9"
  }
 },
 "nbformat": 4,
 "nbformat_minor": 2
}
