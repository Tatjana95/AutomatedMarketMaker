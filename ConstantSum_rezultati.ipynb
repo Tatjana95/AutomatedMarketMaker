{
 "cells": [
  {
   "cell_type": "code",
   "execution_count": 1,
   "metadata": {},
   "outputs": [],
   "source": [
    "from constantSum import ConstantSum_swap\n",
    "from token_class import Token\n",
    "import matplotlib.pyplot as plt\n",
    "import numpy as np"
   ]
  },
  {
   "cell_type": "code",
   "execution_count": 2,
   "metadata": {},
   "outputs": [],
   "source": [
    "s = ConstantSum_swap([Token('a', 100), Token('b', 100)])"
   ]
  },
  {
   "cell_type": "code",
   "execution_count": 3,
   "metadata": {},
   "outputs": [
    {
     "data": {
      "text/plain": [
       "100"
      ]
     },
     "execution_count": 3,
     "metadata": {},
     "output_type": "execute_result"
    }
   ],
   "source": [
    "s.getTokens()[0].getAmount()"
   ]
  },
  {
   "cell_type": "code",
   "execution_count": 4,
   "metadata": {},
   "outputs": [
    {
     "data": {
      "text/plain": [
       "200"
      ]
     },
     "execution_count": 4,
     "metadata": {},
     "output_type": "execute_result"
    }
   ],
   "source": [
    "s.cost_function()"
   ]
  },
  {
   "cell_type": "markdown",
   "metadata": {},
   "source": [
    "Osetljivost na likvidnost"
   ]
  },
  {
   "cell_type": "code",
   "execution_count": 5,
   "metadata": {},
   "outputs": [],
   "source": [
    "init = [50, 100, 500, 1000, 5000, 10000]"
   ]
  },
  {
   "cell_type": "code",
   "execution_count": 6,
   "metadata": {},
   "outputs": [
    {
     "name": "stdout",
     "output_type": "stream",
     "text": [
      "50\n",
      "c0 =  100\n",
      "p1_0 =  1\n",
      "p2_0 =  1\n",
      "pay =  10\n",
      "p1_1 =  1\n",
      "p2_1 =  1\n",
      "Token:\n",
      "\tname:  a \tamount:  40\n",
      "Token:\n",
      "\tname:  b \tamount:  60\n",
      "\n",
      "100\n",
      "c0 =  200\n",
      "p1_0 =  1\n",
      "p2_0 =  1\n",
      "pay =  10\n",
      "p1_1 =  1\n",
      "p2_1 =  1\n",
      "Token:\n",
      "\tname:  a \tamount:  90\n",
      "Token:\n",
      "\tname:  b \tamount:  110\n",
      "\n",
      "500\n",
      "c0 =  1000\n",
      "p1_0 =  1\n",
      "p2_0 =  1\n",
      "pay =  10\n",
      "p1_1 =  1\n",
      "p2_1 =  1\n",
      "Token:\n",
      "\tname:  a \tamount:  490\n",
      "Token:\n",
      "\tname:  b \tamount:  510\n",
      "\n",
      "1000\n",
      "c0 =  2000\n",
      "p1_0 =  1\n",
      "p2_0 =  1\n",
      "pay =  10\n",
      "p1_1 =  1\n",
      "p2_1 =  1\n",
      "Token:\n",
      "\tname:  a \tamount:  990\n",
      "Token:\n",
      "\tname:  b \tamount:  1010\n",
      "\n",
      "5000\n",
      "c0 =  10000\n",
      "p1_0 =  1\n",
      "p2_0 =  1\n",
      "pay =  10\n",
      "p1_1 =  1\n",
      "p2_1 =  1\n",
      "Token:\n",
      "\tname:  a \tamount:  4990\n",
      "Token:\n",
      "\tname:  b \tamount:  5010\n",
      "\n",
      "10000\n",
      "c0 =  20000\n",
      "p1_0 =  1\n",
      "p2_0 =  1\n",
      "pay =  10\n",
      "p1_1 =  1\n",
      "p2_1 =  1\n",
      "Token:\n",
      "\tname:  a \tamount:  9990\n",
      "Token:\n",
      "\tname:  b \tamount:  10010\n",
      "\n"
     ]
    }
   ],
   "source": [
    "for i in init:\n",
    "    swap_liquidity = ConstantSum_swap([Token('a', i), Token('b', i)])\n",
    "    print(i)\n",
    "    print('c0 = ' ,round(swap_liquidity.cost_function(), 4))\n",
    "    print('p1_0 = ', round(swap_liquidity.price_function(swap_liquidity.getTokens()[0]), 4))\n",
    "    print('p2_0 = ', round(swap_liquidity.price_function(swap_liquidity.getTokens()[1]), 4))\n",
    "    pay = swap_liquidity.swap('buy','a', 10)\n",
    "    print('pay = ', round(pay, 4))\n",
    "    print('p1_1 = ', round(swap_liquidity.price_function(swap_liquidity.getTokens()[0]), 4))\n",
    "    print('p2_1 = ', round(swap_liquidity.price_function(swap_liquidity.getTokens()[1]), 4))\n",
    "    \n",
    "    swap_liquidity.poolState()\n",
    "    print()"
   ]
  },
  {
   "cell_type": "markdown",
   "metadata": {},
   "source": [
    "Nezavisnost putanje"
   ]
  },
  {
   "cell_type": "code",
   "execution_count": 7,
   "metadata": {},
   "outputs": [
    {
     "name": "stdout",
     "output_type": "stream",
     "text": [
      "\n",
      "Korisnik placa:  1\n",
      "Token:\n",
      "\tname:  a \tamount:  99\n",
      "Token:\n",
      "\tname:  b \tamount:  101\n",
      "\n",
      "Korisnik placa:  1\n",
      "Token:\n",
      "\tname:  a \tamount:  98\n",
      "Token:\n",
      "\tname:  b \tamount:  102\n",
      "\n",
      "Korisnik placa:  1\n",
      "Token:\n",
      "\tname:  a \tamount:  97\n",
      "Token:\n",
      "\tname:  b \tamount:  103\n",
      "\n",
      "Korisnik placa:  1\n",
      "Token:\n",
      "\tname:  a \tamount:  96\n",
      "Token:\n",
      "\tname:  b \tamount:  104\n",
      "\n",
      "Korisnik placa:  1\n",
      "Token:\n",
      "\tname:  a \tamount:  95\n",
      "Token:\n",
      "\tname:  b \tamount:  105\n",
      "\n",
      "Korisnik placa:  1\n",
      "Token:\n",
      "\tname:  a \tamount:  94\n",
      "Token:\n",
      "\tname:  b \tamount:  106\n",
      "\n",
      "Korisnik placa:  1\n",
      "Token:\n",
      "\tname:  a \tamount:  93\n",
      "Token:\n",
      "\tname:  b \tamount:  107\n",
      "\n",
      "Korisnik placa:  1\n",
      "Token:\n",
      "\tname:  a \tamount:  92\n",
      "Token:\n",
      "\tname:  b \tamount:  108\n",
      "\n",
      "Korisnik placa:  1\n",
      "Token:\n",
      "\tname:  a \tamount:  91\n",
      "Token:\n",
      "\tname:  b \tamount:  109\n",
      "\n",
      "Korisnik placa:  1\n",
      "Token:\n",
      "\tname:  a \tamount:  90\n",
      "Token:\n",
      "\tname:  b \tamount:  110\n",
      "\n",
      "Ukupni troskovi 10\n"
     ]
    }
   ],
   "source": [
    "swap_path_idepedent = ConstantSum_swap([Token('a', 100), Token('b', 100)])\n",
    "s = 0\n",
    "for i in range(10):\n",
    "    pay = round(swap_path_idepedent.swap('buy', 'a', 1), 5)\n",
    "    print()\n",
    "    print('Korisnik placa: ', round(pay, 5))\n",
    "    swap_path_idepedent.poolState()\n",
    "    s += pay\n",
    "print()\n",
    "print('Ukupni troskovi', round(s, 4))"
   ]
  },
  {
   "cell_type": "code",
   "execution_count": 8,
   "metadata": {},
   "outputs": [
    {
     "data": {
      "image/png": "[encoded data removed]",
      "text/plain": [
       "<matplotlib.figure.Figure at 0x7f8bf5ba6358>"
      ]
     },
     "metadata": {
      "needs_background": "light"
     },
     "output_type": "display_data"
    },
    {
     "data": {
      "text/plain": [
       "<matplotlib.figure.Figure at 0x7f8bf3b093c8>"
      ]
     },
     "metadata": {},
     "output_type": "display_data"
    }
   ],
   "source": [
    "#Kriva vezivanja\n",
    "swap_g = ConstantSum_swap([Token('a', 100), Token('b', 100)])\n",
    "\n",
    "x = np.arange(0, swap_g.unknownAmount(0), 1)\n",
    "y = [swap_g.unknownAmount(i)  for i in x]\n",
    "plt.figure(figsize=(3, 3))\n",
    "\n",
    "plt.plot(x, y, color = 'red')\n",
    "plt.savefig('constantSum.jpeg')\n",
    "plt.figure().clear()"
   ]
  },
  {
   "cell_type": "code",
   "execution_count": 9,
   "metadata": {},
   "outputs": [],
   "source": [
    "swapS = ConstantSum_swap([Token('a', 90), Token('b', 100)])\n"
   ]
  },
  {
   "cell_type": "code",
   "execution_count": 10,
   "metadata": {},
   "outputs": [
    {
     "data": {
      "text/plain": [
       "1"
      ]
     },
     "execution_count": 10,
     "metadata": {},
     "output_type": "execute_result"
    }
   ],
   "source": [
    "swapS.swap('buy', 'a', 1)"
   ]
  },
  {
   "cell_type": "markdown",
   "metadata": {},
   "source": [
    "Nestalni gubitak i dobit"
   ]
  },
  {
   "cell_type": "code",
   "execution_count": 11,
   "metadata": {},
   "outputs": [],
   "source": [
    "impLoss1 = ConstantSum_swap([Token('a', 100), Token('b', 100)])"
   ]
  },
  {
   "cell_type": "code",
   "execution_count": 12,
   "metadata": {},
   "outputs": [
    {
     "data": {
      "text/plain": [
       "0.0"
      ]
     },
     "execution_count": 12,
     "metadata": {},
     "output_type": "execute_result"
    }
   ],
   "source": [
    "impLoss1.impermanentLostAndGain(impLoss1.getTokens()[1])"
   ]
  },
  {
   "cell_type": "code",
   "execution_count": 13,
   "metadata": {},
   "outputs": [],
   "source": [
    "x1 = np.arange(1, impLoss1.unknownAmount(0), 1)"
   ]
  },
  {
   "cell_type": "code",
   "execution_count": 14,
   "metadata": {},
   "outputs": [
    {
     "data": {
      "text/plain": [
       "99"
      ]
     },
     "execution_count": 14,
     "metadata": {},
     "output_type": "execute_result"
    }
   ],
   "source": [
    "impLoss1.swap('buy', 'a', 99)"
   ]
  },
  {
   "cell_type": "code",
   "execution_count": 15,
   "metadata": {},
   "outputs": [
    {
     "name": "stdout",
     "output_type": "stream",
     "text": [
      "Token:\n",
      "\tname:  a \tamount:  1\n",
      "Token:\n",
      "\tname:  b \tamount:  199\n"
     ]
    }
   ],
   "source": [
    "impLoss1.poolState()"
   ]
  },
  {
   "cell_type": "code",
   "execution_count": 16,
   "metadata": {},
   "outputs": [],
   "source": [
    "impL1 = [impLoss1.impermanentLostAndGain(impLoss1.getTokens()[1])]"
   ]
  },
  {
   "cell_type": "code",
   "execution_count": 17,
   "metadata": {},
   "outputs": [],
   "source": [
    "for i in range(1, len(x1)):\n",
    "    impLoss1.swap('sell', 'a', 1)\n",
    "    impL1.append(impLoss1.impermanentLostAndGain(impLoss1.getTokens()[1]))"
   ]
  },
  {
   "cell_type": "code",
   "execution_count": 18,
   "metadata": {},
   "outputs": [],
   "source": [
    "impLoss2 = ConstantSum_swap([Token('a', 20), Token('b', 400)])"
   ]
  },
  {
   "cell_type": "code",
   "execution_count": 19,
   "metadata": {},
   "outputs": [
    {
     "data": {
      "text/plain": [
       "0.0"
      ]
     },
     "execution_count": 19,
     "metadata": {},
     "output_type": "execute_result"
    }
   ],
   "source": [
    "impLoss2.impermanentLostAndGain(impLoss2.getTokens()[1])"
   ]
  },
  {
   "cell_type": "code",
   "execution_count": 20,
   "metadata": {},
   "outputs": [],
   "source": [
    "x2 = np.arange(1, impLoss2.unknownAmount(0), 1)"
   ]
  },
  {
   "cell_type": "code",
   "execution_count": 21,
   "metadata": {},
   "outputs": [
    {
     "data": {
      "text/plain": [
       "19"
      ]
     },
     "execution_count": 21,
     "metadata": {},
     "output_type": "execute_result"
    }
   ],
   "source": [
    "impLoss2.swap('buy', 'a', 19)"
   ]
  },
  {
   "cell_type": "code",
   "execution_count": 22,
   "metadata": {},
   "outputs": [
    {
     "name": "stdout",
     "output_type": "stream",
     "text": [
      "Token:\n",
      "\tname:  a \tamount:  1\n",
      "Token:\n",
      "\tname:  b \tamount:  419\n"
     ]
    }
   ],
   "source": [
    "impLoss2.poolState()"
   ]
  },
  {
   "cell_type": "code",
   "execution_count": 23,
   "metadata": {},
   "outputs": [],
   "source": [
    "impL2 = [impLoss2.impermanentLostAndGain(impLoss2.getTokens()[1])]"
   ]
  },
  {
   "cell_type": "code",
   "execution_count": 24,
   "metadata": {},
   "outputs": [],
   "source": [
    "for i in range(1, len(x2)):\n",
    "    impLoss2.swap('sell', 'a', 1)\n",
    "    impL2.append(impLoss2.impermanentLostAndGain(impLoss2.getTokens()[1]))"
   ]
  },
  {
   "cell_type": "code",
   "execution_count": 25,
   "metadata": {},
   "outputs": [
    {
     "data": {
      "image/png": "[encoded data removed]",
      "text/plain": [
       "<matplotlib.figure.Figure at 0x7f8bf3b6deb8>"
      ]
     },
     "metadata": {
      "needs_background": "light"
     },
     "output_type": "display_data"
    }
   ],
   "source": [
    "fig, axes = plt.subplots(nrows=1, ncols=2, figsize=(12,5))\n",
    "axes[0].plot(x1, impL1, color = 'blue')\n",
    "axes[0].plot(x1, [0 for i in range (0, len(x1))], color = 'black')\n",
    "axes[1].plot(x2, impL2, color = 'blue')\n",
    "axes[1].plot(x2, [0 for i in range (0, len(x2))], color = 'black')\n",
    "plt.savefig('impermanentLossCS.jpeg')\n",
    "plt.show()"
   ]
  },
  {
   "cell_type": "code",
   "execution_count": null,
   "metadata": {},
   "outputs": [],
   "source": []
  }
 ],
 "metadata": {
  "kernelspec": {
   "display_name": "Python 3",
   "language": "python",
   "name": "python3"
  },
  "language_info": {
   "codemirror_mode": {
    "name": "ipython",
    "version": 3
   },
   "file_extension": ".py",
   "mimetype": "text/x-python",
   "name": "python",
   "nbconvert_exporter": "python",
   "pygments_lexer": "ipython3",
   "version": "3.6.9"
  }
 },
 "nbformat": 4,
 "nbformat_minor": 2
}
